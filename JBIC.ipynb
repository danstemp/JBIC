{
 "cells": [
  {
   "cell_type": "code",
   "execution_count": 4,
   "metadata": {},
   "outputs": [],
   "source": [
    "import pandas as pd\n",
    "from bs4 import BeautifulSoup\n",
    "import requests\n",
    "from IPython.display import HTML\n",
    "from io import StringIO\n",
    "import urllib\n",
    "import numpy as np"
   ]
  },
  {
   "cell_type": "code",
   "execution_count": 5,
   "metadata": {},
   "outputs": [
    {
     "data": {
      "text/plain": [
       "[2008, 2009, 2010, 2011, 2012, 2013, 2014, 2015, 2016, 2017, 2018]"
      ]
     },
     "execution_count": 5,
     "metadata": {},
     "output_type": "execute_result"
    }
   ],
   "source": [
    "list(range(2008,2018+1))"
   ]
  },
  {
   "cell_type": "code",
   "execution_count": 6,
   "metadata": {},
   "outputs": [],
   "source": [
    "data = []\n",
    "\n",
    "for year in range(2008,2018+1):\n",
    "\n",
    "    r = requests.get(\"https://www.jbic.go.jp/en/information/press/press-{}.html\".format(year))\n",
    "    soup = BeautifulSoup(r.content, 'html.parser')\n",
    "    \n",
    "    for table in soup.find_all('table'):\n",
    "        for row in table.find_all('tr'):\n",
    "            e = {}\n",
    "            date = row.find_all('th')[0].get_text()\n",
    "            date = date.replace('\\xa0',' ')\n",
    "            date = pd.to_datetime(date)\n",
    "            e['date'] = date\n",
    "            \n",
    "            desc = row.find_all('a')[0]\n",
    "            \n",
    "            e['project_desc'] = desc.get_text()\n",
    "            e['url'] = 'https://www.jbic.go.jp/en/information/press'+desc.get_attribute_list('href')[0]\n",
    "            for item in row.find_all('li'):\n",
    "                e[item.get_attribute_list('class')[0]] = item.get_text()\n",
    "            data.append(e)\n",
    "\n",
    "df = pd.DataFrame(data)"
   ]
  },
  {
   "cell_type": "code",
   "execution_count": 7,
   "metadata": {},
   "outputs": [],
   "source": [
    "def get_row_value (row):\n",
    "    return row[~row.isna()].values[0]\n",
    "\n",
    "df['region'] = df.iloc[:,0:8].apply(axis=1, func=get_row_value)\n",
    "df['region'] = df['region'].str.replace('Region:','')\n"
   ]
  },
  {
   "cell_type": "code",
   "execution_count": 8,
   "metadata": {},
   "outputs": [],
   "source": [
    "m = df.iloc[:,9:18].apply(axis=1,func=lambda row: (~row.isna()).sum()).max()\n",
    "m_finance = ['finance_{}'.format(i) for i in range(1,m+1)]\n",
    "\n",
    "def get_row_finance (row):\n",
    "    v = row[~row.isna()].sort_values().dropna().values\n",
    "    size = int(m-v.size)\n",
    "    return pd.Series(np.hstack([v,[np.nan for _ in range(int(3-v.size))]]))\n",
    "\n",
    "df_m = df.iloc[:,9:18].apply(axis=1,func=get_row_finance)\n",
    "\n",
    "for i in range(m):\n",
    "    df[m_finance[i]] = df_m.iloc[:,i]"
   ]
  },
  {
   "cell_type": "code",
   "execution_count": 9,
   "metadata": {},
   "outputs": [],
   "source": [
    "\n",
    "m = df.iloc[:,19:26].apply(axis=1,func=lambda row: (~row.isna()).sum()).max()\n",
    "m_sector = ['sector_{}'.format(i) for i in range(1,m+1)]\n",
    "\n",
    "def get_row_sector (row):\n",
    "    v = row[~row.isna()].sort_values().dropna().values\n",
    "    size = int(3-v.size)\n",
    "    return pd.Series(np.hstack([v,[np.nan for _ in range(int(3-v.size))]]))\n",
    "\n",
    "df_m = df.iloc[:,19:26].apply(axis=1,func=get_row_sector)\n",
    "\n",
    "for i in range(m):\n",
    "    df[m_sector[i]] = df_m.iloc[:,i]"
   ]
  },
  {
   "cell_type": "code",
   "execution_count": 10,
   "metadata": {},
   "outputs": [],
   "source": [
    "df = df.drop(['area_africa', 'area_asia', 'area_europe', 'area_latin-caribbean',\n",
    "       'area_middleeast', 'area_north-america', 'area_oceania',\n",
    "       'area_other-area','finance_010', 'finance_020', 'finance_030', 'finance_040',\n",
    "       'finance_050', 'finance_060', 'finance_070', 'finance_080',\n",
    "       'finance_090', 'sector_environment', 'sector_infrastructure',\n",
    "       'sector_machine-equipment', 'sector_manufacture-services',\n",
    "       'sector_marine-aero', 'sector_others', 'sector_resources',\n",
    "       'sector_smes'],axis=1)"
   ]
  },
  {
   "cell_type": "code",
   "execution_count": 11,
   "metadata": {},
   "outputs": [
    {
     "data": {
      "text/html": [
       "<div>\n",
       "<style scoped>\n",
       "    .dataframe tbody tr th:only-of-type {\n",
       "        vertical-align: middle;\n",
       "    }\n",
       "\n",
       "    .dataframe tbody tr th {\n",
       "        vertical-align: top;\n",
       "    }\n",
       "\n",
       "    .dataframe thead th {\n",
       "        text-align: right;\n",
       "    }\n",
       "</style>\n",
       "<table border=\"1\" class=\"dataframe\">\n",
       "  <thead>\n",
       "    <tr style=\"text-align: right;\">\n",
       "      <th></th>\n",
       "      <th>index</th>\n",
       "      <th>0</th>\n",
       "    </tr>\n",
       "  </thead>\n",
       "  <tbody>\n",
       "    <tr>\n",
       "      <th>0</th>\n",
       "      <td>date</td>\n",
       "      <td>2009-03-27 00:00:00</td>\n",
       "    </tr>\n",
       "    <tr>\n",
       "      <th>1</th>\n",
       "      <td>project_desc</td>\n",
       "      <td>JBIC Signs Loan Agreement to Support Port Expa...</td>\n",
       "    </tr>\n",
       "    <tr>\n",
       "      <th>2</th>\n",
       "      <td>url</td>\n",
       "      <td>https://www.jbic.go.jp/en/information/press./p...</td>\n",
       "    </tr>\n",
       "    <tr>\n",
       "      <th>3</th>\n",
       "      <td>region</td>\n",
       "      <td>Africa</td>\n",
       "    </tr>\n",
       "    <tr>\n",
       "      <th>4</th>\n",
       "      <td>finance_1</td>\n",
       "      <td>Guarantees</td>\n",
       "    </tr>\n",
       "    <tr>\n",
       "      <th>5</th>\n",
       "      <td>finance_2</td>\n",
       "      <td>Untied Loans</td>\n",
       "    </tr>\n",
       "    <tr>\n",
       "      <th>6</th>\n",
       "      <td>finance_3</td>\n",
       "      <td>NaN</td>\n",
       "    </tr>\n",
       "    <tr>\n",
       "      <th>7</th>\n",
       "      <td>sector_1</td>\n",
       "      <td>Infrastructures</td>\n",
       "    </tr>\n",
       "    <tr>\n",
       "      <th>8</th>\n",
       "      <td>sector_2</td>\n",
       "      <td>Manufacturing and Services</td>\n",
       "    </tr>\n",
       "    <tr>\n",
       "      <th>9</th>\n",
       "      <td>sector_3</td>\n",
       "      <td>NaN</td>\n",
       "    </tr>\n",
       "  </tbody>\n",
       "</table>\n",
       "</div>"
      ],
      "text/plain": [
       "          index                                                  0\n",
       "0          date                                2009-03-27 00:00:00\n",
       "1  project_desc  JBIC Signs Loan Agreement to Support Port Expa...\n",
       "2           url  https://www.jbic.go.jp/en/information/press./p...\n",
       "3        region                                             Africa\n",
       "4     finance_1                                         Guarantees\n",
       "5     finance_2                                       Untied Loans\n",
       "6     finance_3                                                NaN\n",
       "7      sector_1                                    Infrastructures\n",
       "8      sector_2                         Manufacturing and Services\n",
       "9      sector_3                                                NaN"
      ]
     },
     "execution_count": 11,
     "metadata": {},
     "output_type": "execute_result"
    }
   ],
   "source": [
    "df.head(1).T.reset_index()"
   ]
  },
  {
   "cell_type": "code",
   "execution_count": 12,
   "metadata": {},
   "outputs": [],
   "source": [
    "import datetime \n",
    "\n",
    "string = datetime.date.today().strftime('%Y%b%d')\n",
    "df.to_excel('JBIC_project_data_{}.xlsx'.format(string))"
   ]
  },
  {
   "cell_type": "code",
   "execution_count": null,
   "metadata": {},
   "outputs": [],
   "source": []
  },
  {
   "cell_type": "code",
   "execution_count": null,
   "metadata": {},
   "outputs": [],
   "source": []
  }
 ],
 "metadata": {
  "kernelspec": {
   "display_name": "Python 3",
   "language": "python",
   "name": "python3"
  }
 },
 "nbformat": 4,
 "nbformat_minor": 2
}
